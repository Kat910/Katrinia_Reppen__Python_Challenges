{
 "cells": [
  {
   "cell_type": "markdown",
   "id": "94f93d49",
   "metadata": {},
   "source": [
    "Define a function called is_prime that takes one integer as input.\n",
    "Return True if the number is prime and False otherwise.\n",
    "Use a loop to check divisibility — don’t use any external libraries or built-in prime checkers.\n",
    "Hints:\n",
    "Any number less than 2 is not prime.\n",
    "Use % to check for divisibility.\n",
    "If any number between 2 and n-1 divides evenly into n, it’s not prime."
   ]
  },
  {
   "cell_type": "code",
   "execution_count": 12,
   "id": "d7875d71",
   "metadata": {},
   "outputs": [],
   "source": [
    "def is_prime(n):\n",
    "   \n",
    "    # Any number less than 2 is not prime\n",
    "    if n < 2:\n",
    "        return False\n",
    "\n",
    "    # Check for divisibility from 2 to n-1\n",
    "    for i in range(2, n):\n",
    "        if n % i == 0:\n",
    "            return False  # Found a divisor, not prime\n",
    "\n",
    "    return True  # No divisors found, number is prime\n"
   ]
  },
  {
   "cell_type": "code",
   "execution_count": 13,
   "id": "bb2ed9e6",
   "metadata": {},
   "outputs": [
    {
     "name": "stdout",
     "output_type": "stream",
     "text": [
      "45 is not a prime number.\n"
     ]
    }
   ],
   "source": [
    "# Get input from the user\n",
    "user_input = input(\"Enter an integer to check if it's prime: \")\n",
    "\n",
    "# Convert the input to an integer\n",
    "try:\n",
    "    number = int(user_input)\n",
    "    if is_prime(number):\n",
    "        print(f\"{number} is a prime number.\")\n",
    "    else:\n",
    "        print(f\"{number} is not a prime number.\")\n",
    "except ValueError:\n",
    "    print(\"Please enter a valid integer.\")"
   ]
  }
 ],
 "metadata": {
  "kernelspec": {
   "display_name": "Python 3",
   "language": "python",
   "name": "python3"
  },
  "language_info": {
   "codemirror_mode": {
    "name": "ipython",
    "version": 3
   },
   "file_extension": ".py",
   "mimetype": "text/x-python",
   "name": "python",
   "nbconvert_exporter": "python",
   "pygments_lexer": "ipython3",
   "version": "3.13.5"
  }
 },
 "nbformat": 4,
 "nbformat_minor": 5
}
