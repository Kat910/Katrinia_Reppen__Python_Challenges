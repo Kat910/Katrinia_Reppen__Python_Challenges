{
 "cells": [
  {
   "cell_type": "markdown",
   "id": "af13223e",
   "metadata": {},
   "source": [
    "Challenge: Write and Save a Simple Log File\n",
    "    Prompt the user to enter a message\n",
    "    Get the current time using datetime\n",
    "    Append the message and timestamp to a log file (log.txt)"
   ]
  },
  {
   "cell_type": "code",
   "execution_count": null,
   "id": "cbd2a49a",
   "metadata": {},
   "outputs": [
    {
     "name": "stdout",
     "output_type": "stream",
     "text": [
      "This is a preview of your log entry: \n",
      " [2025-08-03 01:08] Whelp had to fix that one.  \n",
      "\n",
      "Message logged successfully.\n"
     ]
    }
   ],
   "source": [
    "from datetime import datetime\n",
    "\n",
    "def log_file():\n",
    "  # prompt the user for a message to save to the file\n",
    "  message = input(\"Enter a massage to save to the file: \")\n",
    "\n",
    "  # get the current date and time\n",
    "  timestamp = datetime.now().strftime(\"%Y-%m-%d %I:%m\")\n",
    "\n",
    "  # format the log entry\n",
    "  log_entry = f\"[{timestamp}] {message}\\n\"\n",
    "\n",
    "  # test the log entry\n",
    "  print(f\"This is a preview of your log entry: \\n {log_entry}\")\n",
    "\n",
    "  # Append to the file\n",
    "  with open(\"log.txt\", \"a\") as log_file:\n",
    "    log_file.write(log_entry)\n",
    "    log_file.close()\n",
    "\n",
    "  print(\"Message was logged successfully.\")\n",
    "\n",
    "log_file()\n"
   ]
  },
  {
   "cell_type": "code",
   "execution_count": null,
   "id": "88fb60dd",
   "metadata": {},
   "outputs": [],
   "source": []
  }
 ],
 "metadata": {
  "kernelspec": {
   "display_name": "Python 3",
   "language": "python",
   "name": "python3"
  },
  "language_info": {
   "codemirror_mode": {
    "name": "ipython",
    "version": 3
   },
   "file_extension": ".py",
   "mimetype": "text/x-python",
   "name": "python",
   "nbconvert_exporter": "python",
   "pygments_lexer": "ipython3",
   "version": "3.13.5"
  }
 },
 "nbformat": 4,
 "nbformat_minor": 5
}
