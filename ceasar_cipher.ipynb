{
 "cells": [
  {
   "cell_type": "markdown",
   "id": "8d04151e",
   "metadata": {},
   "source": [
    "# Define a function called caesar_cipher that accepts:\n",
    "# a string text\n",
    "# an integer shift\n",
    "# Return a new string with each alphabetical character shifted by the shift amount.\n",
    "# Keep the case (uppercase/lowercase) the same.\n",
    "# Do not change non-letter characters like punctuation, spaces, or numbers."
   ]
  },
  {
   "cell_type": "code",
   "execution_count": null,
   "id": "323e3db1",
   "metadata": {},
   "outputs": [],
   "source": [
    "text = \"This will be shifted so no one knows what it says\"\n",
    "\n",
    "def caesar_cipher(text, shift):\n",
    "    result = \"\"  \n",
    "\n",
    "    for char in text:\n",
    "        if char.isalpha():\n",
    "            \n",
    "            if char.isupper():\n",
    "                \n",
    "            elif char.islower():\n",
    "                \n",
    "        else:\n",
    "            # If it's not a letter, leave it the same (like spaces or punctuation)\n",
    "            result += char\n",
    "\n",
    "    return result\n"
   ]
  }
 ],
 "metadata": {
  "language_info": {
   "name": "python"
  }
 },
 "nbformat": 4,
 "nbformat_minor": 5
}
