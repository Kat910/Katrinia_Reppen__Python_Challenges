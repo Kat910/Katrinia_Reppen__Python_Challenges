{
 "cells": [
  {
   "cell_type": "markdown",
   "id": "8d04151e",
   "metadata": {},
   "source": [
    "# Define a function called caesar_cipher that accepts:\n",
    "# a string text\n",
    "# an integer shift\n",
    "# Return a new string with each alphabetical character shifted by the shift amount.\n",
    "# Keep the case (uppercase/lowercase) the same.\n",
    "# Do not change non-letter characters like punctuation, spaces, or numbers."
   ]
  },
  {
   "cell_type": "code",
   "execution_count": 5,
   "id": "323e3db1",
   "metadata": {},
   "outputs": [
    {
     "name": "stdout",
     "output_type": "stream",
     "text": [
      "Encoded message: cde-f\n"
     ]
    }
   ],
   "source": [
    "alphabet = 'abcdefghijklmnopqrstuvwxyz'\n",
    "\n",
    "def caesar_cipher(text, shift):\n",
    "    result = ''\n",
    "    shift = int(shift) % 26\n",
    "\n",
    "    for char in text.lower():\n",
    "        if char in alphabet:\n",
    "            # Find the index of the char and shift it\n",
    "            index = alphabet.index(char)\n",
    "            new_index = (index + shift) % 26\n",
    "            result += alphabet[new_index]\n",
    "        else:\n",
    "            # Keep non-alphabet characters the same\n",
    "            result += char\n",
    "\n",
    "    return result\n",
    "\n",
    "# Get user input\n",
    "text = input(\"Enter a value to be coded: \")\n",
    "shift = input(\"Enter a shift value: \")\n",
    "\n",
    "# Call the function and print result\n",
    "print(\"Encoded message:\", caesar_cipher(text, shift))\n",
    "\n"
   ]
  }
 ],
 "metadata": {
  "kernelspec": {
   "display_name": "Python 3",
   "language": "python",
   "name": "python3"
  },
  "language_info": {
   "codemirror_mode": {
    "name": "ipython",
    "version": 3
   },
   "file_extension": ".py",
   "mimetype": "text/x-python",
   "name": "python",
   "nbconvert_exporter": "python",
   "pygments_lexer": "ipython3",
   "version": "3.13.5"
  }
 },
 "nbformat": 4,
 "nbformat_minor": 5
}
